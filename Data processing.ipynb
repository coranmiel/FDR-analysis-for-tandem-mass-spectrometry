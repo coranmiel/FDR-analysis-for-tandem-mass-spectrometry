{
 "cells": [
  {
   "cell_type": "markdown",
   "id": "8a77807f92f26ee",
   "metadata": {},
   "source": [
    "# Data processing for further analysing\n",
    "\n",
    "- Merging PXD004452 data into one data frame\n",
    "- Sequence integration from PXD004452 and Tailor\n",
    "- Adding decoy sequences (reversed & shuffled)"
   ]
  },
  {
   "cell_type": "code",
   "execution_count": 54,
   "id": "fbc121e30a2defb3",
   "metadata": {
    "ExecuteTime": {
     "end_time": "2025-02-17T10:14:01.781227Z",
     "start_time": "2025-02-17T10:13:59.583300Z"
    }
   },
   "outputs": [],
   "source": [
    "import pandas as pd\n",
    "import os\n",
    "import re\n",
    "from tqdm import tqdm\n",
    "import Levenshtein as lev\n",
    "import random"
   ]
  },
  {
   "cell_type": "code",
   "execution_count": 55,
   "id": "d4c886ae-3597-4ff1-86c5-82d3ecac5d06",
   "metadata": {},
   "outputs": [
    {
     "name": "stdout",
     "output_type": "stream",
     "text": [
      "Number of annotations: 243230\n"
     ]
    }
   ],
   "source": [
    "df = pd.read_csv(\"data/tailor.assign-confidence.target.txt\", delimiter=\"\\t\")\n",
    "df = df[df['tdc q-value'] < 0.01]\n",
    "print(f'Number of annotations: {df.shape[0]}')"
   ]
  },
  {
   "cell_type": "code",
   "execution_count": 56,
   "id": "42eec64dd82f747e",
   "metadata": {
    "ExecuteTime": {
     "end_time": "2025-02-17T10:14:15.077327Z",
     "start_time": "2025-02-17T10:14:06.790554Z"
    }
   },
   "outputs": [
    {
     "name": "stdout",
     "output_type": "stream",
     "text": [
      "Success!\n"
     ]
    }
   ],
   "source": [
    "def merge_tsv_files(directory):\n",
    "    all_files = [f for f in os.listdir(directory) if f.endswith(\".tsv\")]\n",
    "    df_list = []\n",
    "    \n",
    "    for f in all_files:\n",
    "        df = pd.read_csv(os.path.join(directory, f), sep='\\t')\n",
    "        df[\"file_key\"] = f[:-4]\n",
    "        df[\"scan\"] = df[\"TITLE\"].str.extract(r\"scan=(\\d+)\").astype(float).fillna(-1).astype(int)\n",
    "        df_list.append(df)\n",
    "    \n",
    "    return pd.concat(df_list, ignore_index=True) if df_list else pd.DataFrame()\n",
    "\n",
    "def merge_with_metadata(merged_df, df):\n",
    "    df = df.copy()\n",
    "    df[\"file_key\"] = df[\"file\"].apply(lambda x: os.path.basename(x)[:-5] if x.endswith(\".mzML\") else x)\n",
    "    return merged_df.merge(df, on=[\"file_key\", \"scan\"], how=\"inner\")\n",
    "\n",
    "folder_path = \"data/pepnet_PXD004452\"\n",
    "merged_df = merge_tsv_files(folder_path)\n",
    "merged_df = merge_with_metadata(merged_df, df)\n",
    "\n",
    "print(\"Success!\")"
   ]
  },
  {
   "cell_type": "code",
   "execution_count": 57,
   "id": "1da2ffd6-7dfe-4d88-82df-0ba1481b3420",
   "metadata": {},
   "outputs": [
    {
     "name": "stdout",
     "output_type": "stream",
     "text": [
      "Number of correct annotations: 71469\n",
      "Number of incorrect annotations (based on PPM difference value): 69125\n",
      "Number of other incorrect annotations: 102636\n",
      "Number of all annotations: 243230\n"
     ]
    }
   ],
   "source": [
    "merged_df['updated sequence'] = merged_df['sequence'].str.replace(r'\\[.*?\\]', '', regex=True)\n",
    "\n",
    "# correct annotations\n",
    "# PPM difference + sequence match\n",
    "correct_annotations_df = merged_df[\n",
    "    ((merged_df['DENOVO'] == merged_df['updated sequence']) & (merged_df['updated sequence'] != merged_df['sequence'])) |\n",
    "    ((merged_df['DENOVO'] == merged_df['sequence']) & (merged_df['PPM Difference'].abs() < 10))\n",
    "]\n",
    "\n",
    "# incorrect annotations\n",
    "# large PPM difference\n",
    "incorrect_annotations_df = merged_df[\n",
    "    (merged_df['PPM Difference'].abs() >= 10) &\n",
    "    ~(\n",
    "        (merged_df['DENOVO'] == merged_df['updated sequence']) &\n",
    "        (merged_df['updated sequence'] != merged_df['sequence'])\n",
    "    )\n",
    "]\n",
    "\n",
    "# other annotations \n",
    "# nice PPM but different sequences\n",
    "other_annotations_df = merged_df[\n",
    "    (merged_df['PPM Difference'].abs() < 10) & \n",
    "    (merged_df['DENOVO'] != merged_df['updated sequence'])\n",
    "]\n",
    "\n",
    "print(f'Number of correct annotations: {correct_annotations_df.shape[0]}')\n",
    "print(f'Number of incorrect annotations (based on PPM difference value): {incorrect_annotations_df.shape[0]}')\n",
    "print(f'Number of other incorrect annotations: {other_annotations_df.shape[0]}')\n",
    "print(f'Number of all annotations: {merged_df.shape[0]}')"
   ]
  },
  {
   "cell_type": "code",
   "execution_count": 58,
   "id": "b132d12d-1a2f-4b2e-bbb0-69c9b99838ba",
   "metadata": {},
   "outputs": [
    {
     "name": "stdout",
     "output_type": "stream",
     "text": [
      "  updated sequence decoy (reversed) decoy (shuffled)\n",
      "0        RKLESTESR        RSETSELKR        RTKSSEELR\n",
      "1     KRNQNSQISTEK     KETSIQSNQNRK     KIRENSQTSQNK\n",
      "2       GHVQDPNDRR       GRDNPDQVHR       GPNDRHVDQR\n",
      "3         EDHSLEHR         EHELSHDR         EEHSLDHR\n",
      "4        KSTGGKAPR        KPAKGGTSR        KATKGPSGR\n"
     ]
    }
   ],
   "source": [
    "def create_reversed_decoy(sequence):\n",
    "    if len(sequence) < 2:\n",
    "        return sequence\n",
    "    return sequence[0] + sequence[-2:0:-1] + sequence[-1]\n",
    "\n",
    "\n",
    "def create_random_decoy(sequence):\n",
    "    if len(sequence) < 2:\n",
    "        return sequence\n",
    "    shuffled = list(sequence[1:-1])\n",
    "    random.shuffle(shuffled)\n",
    "    return sequence[0] + ''.join(shuffled) + sequence[-1]\n",
    "\n",
    "merged_df.loc[:, 'decoy (reversed)'] = merged_df['updated sequence'].apply(create_reversed_decoy)\n",
    "merged_df.loc[:, 'decoy (shuffled)'] = merged_df['updated sequence'].apply(create_random_decoy)\n",
    "\n",
    "merged_df.loc[:, 'edit distance pepnet-tailor'] = merged_df.apply(\n",
    "    lambda row: lev.distance(row['DENOVO'], row['updated sequence']), axis=1\n",
    ")\n",
    "\n",
    "merged_df.loc[:, 'edit distance tailor-decoy'] = merged_df.apply(\n",
    "    lambda row: lev.distance(row['updated sequence'], row['decoy (reversed)']), axis=1\n",
    ")\n",
    "\n",
    "merged_df.loc[:, 'edit distance tailor-decoy-shuffled'] = merged_df.apply(\n",
    "    lambda row: lev.distance(row['updated sequence'], row['decoy (shuffled)']), axis=1\n",
    ")\n",
    "\n",
    "print(merged_df[['updated sequence', 'decoy (reversed)', 'decoy (shuffled)']].head())\n",
    "merged_df.to_csv('data/merged_df.txt', index=False, sep='\\t')"
   ]
  }
 ],
 "metadata": {
  "kernelspec": {
   "display_name": "Python 3 (ipykernel)",
   "language": "python",
   "name": "python3"
  },
  "language_info": {
   "codemirror_mode": {
    "name": "ipython",
    "version": 3
   },
   "file_extension": ".py",
   "mimetype": "text/x-python",
   "name": "python",
   "nbconvert_exporter": "python",
   "pygments_lexer": "ipython3",
   "version": "3.12.8"
  }
 },
 "nbformat": 4,
 "nbformat_minor": 5
}
